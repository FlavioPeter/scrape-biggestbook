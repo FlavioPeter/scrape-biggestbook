{
 "cells": [
  {
   "cell_type": "markdown",
   "metadata": {},
   "source": [
    "# Biggest Book\n"
   ]
  },
  {
   "cell_type": "code",
   "execution_count": 2,
   "metadata": {},
   "outputs": [],
   "source": [
    "import requests, os, json\n",
    "import numpy as np\n",
    "from termcolor import colored"
   ]
  },
  {
   "cell_type": "code",
   "execution_count": 3,
   "metadata": {},
   "outputs": [],
   "source": [
    "def get_ids(path=\"partIds.csv\"):\n",
    "    ids = np.genfromtxt(path, delimiter=\",\", skip_header=1, usecols=0, dtype=str)\n",
    "    return ids"
   ]
  },
  {
   "cell_type": "code",
   "execution_count": 4,
   "metadata": {},
   "outputs": [
    {
     "data": {
      "text/plain": [
       "'ZPPR46124'"
      ]
     },
     "execution_count": 4,
     "metadata": {},
     "output_type": "execute_result"
    }
   ],
   "source": [
    "get_ids()[-1]"
   ]
  },
  {
   "cell_type": "code",
   "execution_count": 5,
   "metadata": {},
   "outputs": [],
   "source": [
    "def create_dir(dir_path=\"BiggestBook\"):\n",
    "    if not os.path.exists(dir_path):\n",
    "        os.mkdir(dir_path)"
   ]
  },
  {
   "cell_type": "code",
   "execution_count": 6,
   "metadata": {},
   "outputs": [],
   "source": [
    "create_dir()"
   ]
  },
  {
   "cell_type": "code",
   "execution_count": 10,
   "metadata": {},
   "outputs": [],
   "source": [
    "def get_json_data(id=\"BAGMK8511200\"):\n",
    "    headers = {\n",
    "        \"X-API-KEY\": \"31BC6E02FD51DF7F7CE37186A31EE9B9DEF9C642526BC29F8201D81B669B9\",\n",
    "    }\n",
    "    url = f\"https://api.essendant.com/digital/digitalservices/search/v2/items?&vc=n&sgs=Simple&win={id}&re=Detail&\"\n",
    "    resp = requests.get(\n",
    "        url,\n",
    "        headers=headers,\n",
    "    )\n",
    "\n",
    "    json_data = resp.json()\n",
    "\n",
    "    return json_data"
   ]
  },
  {
   "cell_type": "code",
   "execution_count": 11,
   "metadata": {},
   "outputs": [
    {
     "data": {
      "text/plain": [
       "{'status': 'success', 'perf': ['HDLR_TTL: 3']}"
      ]
     },
     "execution_count": 11,
     "metadata": {},
     "output_type": "execute_result"
    }
   ],
   "source": [
    "get_json_data(id=\"BAGMK8511200\")"
   ]
  },
  {
   "cell_type": "code",
   "execution_count": 36,
   "metadata": {},
   "outputs": [],
   "source": [
    "def format_json_data(json_data):\n",
    "    json_data_formatted = {}\n",
    "    json_data_formatted[\"title\"] = json_data[\"description\"]\n",
    "    json_data_formatted[\"shortDesc\"] = json_data[\"sellingPoints\"]\n",
    "    json_data_formatted[\"longDesc\"] = json_data[\"sellingCopy\"]\n",
    "    json_data_formatted[\"productDetails\"] = {\n",
    "        a[\"name\"]: a[\"value\"] for a in json_data[\"attributes\"]\n",
    "    }\n",
    "    json_data_formatted[\"shippingWeightItemDimensions\"] = {\n",
    "        \"weight\": f'{json_data[\"weight\"]}{json_data[\"weightUnit\"]}',\n",
    "        \"length\": f'{json_data[\"length\"]}{json_data[\"lengthUnit\"]}',\n",
    "        \"height\": f'{json_data[\"height\"]}{json_data[\"heightUnit\"]}',\n",
    "        \"width\": f'{json_data[\"width\"]}{json_data[\"widthUnit\"]}',\n",
    "    }\n",
    "    try:\n",
    "        json_data_formatted[\"warranty\"] = json_data[\"warranty\"]\n",
    "    except:\n",
    "        # no warranty\n",
    "        pass\n",
    "    json_data_formatted[\"partNum\"] = json_data[\"win\"]\n",
    "    try:\n",
    "        json_data_formatted[\"images\"] = [\"https:\" + json_data[\"image\"][\"url\"]] + [\n",
    "            \"https:\" + i[\"url\"] for i in json_data[\"moreImages\"]\n",
    "        ]\n",
    "    except:\n",
    "        # no extra images\n",
    "        pass\n",
    "\n",
    "    try:\n",
    "        json_data_formatted[\"options\"] = [\n",
    "            option[\"description\"] for option in json_data[\"skuGroupItems\"]\n",
    "        ]\n",
    "    except:\n",
    "        # no options\n",
    "        pass\n",
    "\n",
    "    return json_data_formatted"
   ]
  },
  {
   "cell_type": "code",
   "execution_count": 37,
   "metadata": {},
   "outputs": [],
   "source": [
    "def export_to_json(full_path, json_data):\n",
    "    with open(full_path, \"w\") as json_file:\n",
    "        json.dump(json_data, json_file, indent=4, sort_keys=False)"
   ]
  },
  {
   "cell_type": "code",
   "execution_count": 41,
   "metadata": {},
   "outputs": [],
   "source": [
    "def main():\n",
    "    ids = get_ids()\n",
    "    dir_path = \"BiggestBook\"\n",
    "    create_dir(dir_path=dir_path)\n",
    "    for id in ids:\n",
    "        full_path = os.path.join(dir_path, id) + \".json\"\n",
    "        if not os.path.exists(full_path):\n",
    "            try:\n",
    "                json_data = get_json_data(id=id)\n",
    "                json_data_formatted = format_json_data(json_data)\n",
    "                export_to_json(full_path, json_data_formatted)\n",
    "                print(colored(f\"{id} | DOWNLOADED\", \"green\"))\n",
    "            except Exception as e:\n",
    "                print(colored(f\"{id} | COULD NOT DOWNLOAD\", \"red\"))\n",
    "                print(e)\n",
    "        else:\n",
    "            print(colored(f\"{id} | ALREADY DOWNLOADED\", \"yellow\"))"
   ]
  },
  {
   "cell_type": "code",
   "execution_count": 42,
   "metadata": {},
   "outputs": [
    {
     "name": "stdout",
     "output_type": "stream",
     "text": [
      "\u001b[33mAAG013200 | ALREADY DOWNLOADED\u001b[0m\n",
      "\u001b[33mAAG031054005 | ALREADY DOWNLOADED\u001b[0m\n",
      "\u001b[33mAAG038054005 | ALREADY DOWNLOADED\u001b[0m\n",
      "\u001b[33mAAG109980527 | ALREADY DOWNLOADED\u001b[0m\n",
      "\u001b[33mAAG109990520 | ALREADY DOWNLOADED\u001b[0m\n",
      "\u001b[33mAAG109990527 | ALREADY DOWNLOADED\u001b[0m\n",
      "\u001b[33mAAG1134905 | ALREADY DOWNLOADED\u001b[0m\n",
      "\u001b[33mAAG122905 | ALREADY DOWNLOADED\u001b[0m\n",
      "\u001b[33mAAG1675F200 | ALREADY DOWNLOADED\u001b[0m\n",
      "\u001b[33mAAG1675F707 | ALREADY DOWNLOADED\u001b[0m\n",
      "\u001b[32mAAG1675F905 | DOWNLOADED\u001b[0m\n",
      "\u001b[32mAAG1675G200 | DOWNLOADED\u001b[0m\n",
      "\u001b[32mAAG1675G905 | DOWNLOADED\u001b[0m\n",
      "\u001b[32mAAG1676200 | DOWNLOADED\u001b[0m\n",
      "\u001b[32mAAG1676905 | DOWNLOADED\u001b[0m\n",
      "\u001b[32mAAG1680200 | DOWNLOADED\u001b[0m\n",
      "\u001b[32mAAG1680905 | DOWNLOADED\u001b[0m\n",
      "\u001b[32mAAG1681200 | DOWNLOADED\u001b[0m\n",
      "\u001b[32mAAG1681905 | DOWNLOADED\u001b[0m\n",
      "\u001b[32mAAG47112521 | DOWNLOADED\u001b[0m\n",
      "\u001b[32mAAG48112521 | DOWNLOADED\u001b[0m\n",
      "\u001b[32mAAG481285Y21 | DOWNLOADED\u001b[0m\n",
      "\u001b[32mAAG5035 | DOWNLOADED\u001b[0m\n",
      "\u001b[32mAAG5051905 | DOWNLOADED\u001b[0m\n",
      "\u001b[32mAAG523905 | DOWNLOADED\u001b[0m\n",
      "\u001b[32mAAG5254905 | DOWNLOADED\u001b[0m\n",
      "\u001b[32mAAG541905 | DOWNLOADED\u001b[0m\n",
      "\u001b[32mAAG589905 | DOWNLOADED\u001b[0m\n",
      "\u001b[32mAAG609980659 | DOWNLOADED\u001b[0m\n",
      "\u001b[32mAAG7000805 | DOWNLOADED\u001b[0m\n",
      "\u001b[32mAAG7003505 | DOWNLOADED\u001b[0m\n",
      "\u001b[32mAAG7007505 | DOWNLOADED\u001b[0m\n",
      "\u001b[32mAAG70100G05 | DOWNLOADED\u001b[0m\n",
      "\u001b[32mAAG70100X45 | DOWNLOADED\u001b[0m\n",
      "\u001b[32mAAG7012005 | DOWNLOADED\u001b[0m\n",
      "\u001b[32mAAG70120G05 | DOWNLOADED\u001b[0m\n",
      "\u001b[32mAAG7013005 | DOWNLOADED\u001b[0m\n",
      "\u001b[32mAAG7020705 | DOWNLOADED\u001b[0m\n",
      "\u001b[32mAAG7021405 | DOWNLOADED\u001b[0m\n",
      "\u001b[32mAAG7022205 | DOWNLOADED\u001b[0m\n",
      "\u001b[32mAAG70250X14 | DOWNLOADED\u001b[0m\n",
      "\u001b[32mAAG70250X20 | DOWNLOADED\u001b[0m\n",
      "\u001b[32mAAG7026005 | DOWNLOADED\u001b[0m\n",
      "\u001b[32mAAG7026020 | DOWNLOADED\u001b[0m\n",
      "\u001b[32mAAG7026050 | DOWNLOADED\u001b[0m\n",
      "\u001b[32mAAG70260G05 | DOWNLOADED\u001b[0m\n",
      "\u001b[32mAAG70260G60 | DOWNLOADED\u001b[0m\n",
      "\u001b[32mAAG70260X05 | DOWNLOADED\u001b[0m\n",
      "\u001b[32mAAG70260X45 | DOWNLOADED\u001b[0m\n",
      "\u001b[32mAAG7026XL05 | DOWNLOADED\u001b[0m\n",
      "\u001b[32mAAG7026XL38 | DOWNLOADED\u001b[0m\n",
      "\u001b[32mAAG7029005 | DOWNLOADED\u001b[0m\n",
      "\u001b[32mAAG7054XL05 | DOWNLOADED\u001b[0m\n",
      "\u001b[32mAAG7058XL05 | DOWNLOADED\u001b[0m\n",
      "\u001b[32mAAG70620130 | DOWNLOADED\u001b[0m\n",
      "\u001b[32mAAG7080005 | DOWNLOADED\u001b[0m\n",
      "\u001b[32mAAG7082205 | DOWNLOADED\u001b[0m\n",
      "\u001b[32mAAG7085505 | DOWNLOADED\u001b[0m\n",
      "\u001b[32mAAG7086405 | DOWNLOADED\u001b[0m\n",
      "\u001b[32mAAG7086505 | DOWNLOADED\u001b[0m\n",
      "\u001b[32mAAG7090410 | DOWNLOADED\u001b[0m\n",
      "\u001b[32mAAG7090610 | DOWNLOADED\u001b[0m\n",
      "\u001b[32mAAG7090810 | DOWNLOADED\u001b[0m\n",
      "\u001b[32mAAG7091110 | DOWNLOADED\u001b[0m\n",
      "\u001b[32mAAG70940X14 | DOWNLOADED\u001b[0m\n",
      "\u001b[32mAAG70940X20 | DOWNLOADED\u001b[0m\n",
      "\u001b[32mAAG7095005 | DOWNLOADED\u001b[0m\n",
      "\u001b[32mAAG7095020 | DOWNLOADED\u001b[0m\n",
      "\u001b[32mAAG7095050 | DOWNLOADED\u001b[0m\n",
      "\u001b[32mAAG70950G05 | DOWNLOADED\u001b[0m\n",
      "\u001b[32mAAG70950G60 | DOWNLOADED\u001b[0m\n",
      "\u001b[32mAAG70950V05 | DOWNLOADED\u001b[0m\n",
      "\u001b[32mAAG70950X05 | DOWNLOADED\u001b[0m\n",
      "\u001b[32mAAG70950X45 | DOWNLOADED\u001b[0m\n",
      "\u001b[32mAAG70951G05 | DOWNLOADED\u001b[0m\n",
      "\u001b[32mAAG7095705 | DOWNLOADED\u001b[0m\n",
      "\u001b[32mAAG70957E05 | DOWNLOADED\u001b[0m\n",
      "\u001b[32mAAG7095XL05 | DOWNLOADED\u001b[0m\n",
      "\u001b[32mAAG70EP0105 | DOWNLOADED\u001b[0m\n",
      "\u001b[32mAAG75101P05 | DOWNLOADED\u001b[0m\n",
      "\u001b[32mAAG75950P05 | DOWNLOADED\u001b[0m\n",
      "\u001b[32mAAG75951P05 | DOWNLOADED\u001b[0m\n",
      "\u001b[32mAAG75959P05 | DOWNLOADED\u001b[0m\n",
      "\u001b[32mAAG760105 | DOWNLOADED\u001b[0m\n",
      "\u001b[32mAAG760205 | DOWNLOADED\u001b[0m\n",
      "\u001b[32mAAG760605 | DOWNLOADED\u001b[0m\n",
      "\u001b[32mAAG760805 | DOWNLOADED\u001b[0m\n",
      "\u001b[32mAAG761105 | DOWNLOADED\u001b[0m\n",
      "\u001b[32mAAG7695005 | DOWNLOADED\u001b[0m\n",
      "\u001b[32mAAG76PN0605 | DOWNLOADED\u001b[0m\n",
      "\u001b[32mAAG791905G | DOWNLOADED\u001b[0m\n",
      "\u001b[32mAAG8001105 | DOWNLOADED\u001b[0m\n",
      "\u001b[32mAAG8015005 | DOWNLOADED\u001b[0m\n",
      "\u001b[32mAAG8058005 | DOWNLOADED\u001b[0m\n",
      "\u001b[32mAAG80620430 | DOWNLOADED\u001b[0m\n",
      "\u001b[32mAAG88200 | DOWNLOADED\u001b[0m\n",
      "\u001b[32mAAG89701 | DOWNLOADED\u001b[0m\n",
      "\u001b[32mAAG89702 | DOWNLOADED\u001b[0m\n",
      "\u001b[32mAAG89802 | DOWNLOADED\u001b[0m\n",
      "\u001b[32mAAG89803 | DOWNLOADED\u001b[0m\n"
     ]
    }
   ],
   "source": [
    "main()"
   ]
  },
  {
   "cell_type": "code",
   "execution_count": null,
   "metadata": {},
   "outputs": [],
   "source": []
  }
 ],
 "metadata": {
  "kernelspec": {
   "display_name": "venv-scraper",
   "language": "python",
   "name": "venv-scraper"
  },
  "language_info": {
   "codemirror_mode": {
    "name": "ipython",
    "version": 3
   },
   "file_extension": ".py",
   "mimetype": "text/x-python",
   "name": "python",
   "nbconvert_exporter": "python",
   "pygments_lexer": "ipython3",
   "version": "3.10.12"
  }
 },
 "nbformat": 4,
 "nbformat_minor": 2
}
